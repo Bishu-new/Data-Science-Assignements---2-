{
 "cells": [
  {
   "cell_type": "markdown",
   "id": "04d19965-bbc4-4286-83a1-a091f1df3eb4",
   "metadata": {},
   "source": [
    "We can comment code in 3 ways.  \n",
    "1. The single line comment which will be followed by ##/#\n",
    "2. We can also comment in the form of string with triple quote (\"\"\")to make the comment in different line\n",
    "3. We can also comment in multiple line either using ##/# or triple quote . \n",
    "below are  the example of comment . "
   ]
  },
  {
   "cell_type": "code",
   "execution_count": 6,
   "id": "1d4bd713-b484-4377-9eec-a0c50ed51ee9",
   "metadata": {},
   "outputs": [],
   "source": [
    "# This is a single line comment . where there is only one line avialable ."
   ]
  },
  {
   "cell_type": "code",
   "execution_count": 2,
   "id": "29314f83-35f6-4e30-9214-25690b2145b0",
   "metadata": {},
   "outputs": [],
   "source": [
    "## I am doing my python assigmemts-2 and i am loving it . \n",
    "## The course is beginner friendly "
   ]
  },
  {
   "cell_type": "code",
   "execution_count": 5,
   "id": "59147267-62e3-4efe-abf9-2bfc56b6c993",
   "metadata": {},
   "outputs": [
    {
     "data": {
      "text/plain": [
       "' The videos provided in the section is very helpful to learn python in depth.\\nIt but to be good at python practice is the main this that need to be done \\nI am loving data science 2.0 '"
      ]
     },
     "execution_count": 5,
     "metadata": {},
     "output_type": "execute_result"
    }
   ],
   "source": [
    "\"\"\" The videos provided in the section is very helpful to learn python in depth.\n",
    "It but to be good at python practice is the main this that need to be done \n",
    "I am loving data science 2.0 \"\"\""
   ]
  },
  {
   "cell_type": "markdown",
   "id": "fd0f9176-2770-49af-8697-17a316b9d95d",
   "metadata": {},
   "source": [
    "Ans no 2 . "
   ]
  },
  {
   "cell_type": "markdown",
   "id": "ad75721d-24ec-4ff8-bcaf-4776f929d524",
   "metadata": {},
   "source": [
    "In Python, variables are containers for storing data values. Unlike some other programming languages, Python has no command for declaring a variable. A variable is created the moment you first assign a value to it .  For example, you can create a variable x and assign the value 5 to it by writing x = 5. You can also create a variable y and assign the string value \"John\" to it by writing y = \"John\". Variables do not need to be declared with any particular type and can even change type after they have been set."
   ]
  },
  {
   "cell_type": "code",
   "execution_count": 10,
   "id": "24a9fa5b-5b68-41a5-8c42-dfad31b38b96",
   "metadata": {},
   "outputs": [],
   "source": [
    "# example of assigin of varibale , where x is a variable \n",
    "\n",
    "x = 5 "
   ]
  },
  {
   "cell_type": "code",
   "execution_count": 8,
   "id": "9df0d6dd-b65a-434f-ba5e-8398c47219e3",
   "metadata": {},
   "outputs": [
    {
     "data": {
      "text/plain": [
       "5"
      ]
     },
     "execution_count": 8,
     "metadata": {},
     "output_type": "execute_result"
    }
   ],
   "source": [
    "x"
   ]
  },
  {
   "cell_type": "code",
   "execution_count": 11,
   "id": "86809a73-e07a-4a2b-a204-22685ee45b13",
   "metadata": {},
   "outputs": [],
   "source": [
    "# we can also assign a multiple  variable to a value example below \n",
    "x = y = z = 10 "
   ]
  },
  {
   "cell_type": "code",
   "execution_count": 12,
   "id": "fd3924dd-28fd-47c1-97d9-6abcafd69247",
   "metadata": {},
   "outputs": [
    {
     "data": {
      "text/plain": [
       "10"
      ]
     },
     "execution_count": 12,
     "metadata": {},
     "output_type": "execute_result"
    }
   ],
   "source": [
    "y"
   ]
  },
  {
   "cell_type": "code",
   "execution_count": 13,
   "id": "faedf79c-6be4-4f04-8249-f18998472450",
   "metadata": {},
   "outputs": [],
   "source": [
    "## assignig multiple variable with different value in a single line with the help of , \n",
    "a, b, c = 1, 1.35 , 674+7j"
   ]
  },
  {
   "cell_type": "code",
   "execution_count": 14,
   "id": "2030bb83-41f2-43a6-89d8-022854e29c24",
   "metadata": {},
   "outputs": [
    {
     "data": {
      "text/plain": [
       "1"
      ]
     },
     "execution_count": 14,
     "metadata": {},
     "output_type": "execute_result"
    }
   ],
   "source": [
    "a"
   ]
  },
  {
   "cell_type": "code",
   "execution_count": 15,
   "id": "db0f7430-851e-4562-8300-2d3f2ba1a10b",
   "metadata": {},
   "outputs": [
    {
     "data": {
      "text/plain": [
       "1.35"
      ]
     },
     "execution_count": 15,
     "metadata": {},
     "output_type": "execute_result"
    }
   ],
   "source": [
    "b"
   ]
  },
  {
   "cell_type": "code",
   "execution_count": 16,
   "id": "cbcafa5b-538e-45e6-a89e-176e1c6131be",
   "metadata": {},
   "outputs": [
    {
     "data": {
      "text/plain": [
       "(674+7j)"
      ]
     },
     "execution_count": 16,
     "metadata": {},
     "output_type": "execute_result"
    }
   ],
   "source": [
    "c"
   ]
  },
  {
   "cell_type": "markdown",
   "id": "54a70596-f4cd-49d4-9c1f-91ef67f54181",
   "metadata": {},
   "source": [
    "Ans 3 . "
   ]
  },
  {
   "cell_type": "markdown",
   "id": "ca9672b7-04bd-4608-abaf-e9f571aeb899",
   "metadata": {},
   "source": [
    "There are two types of type conversion in Python: Implicit Type Conversion and Explicit Type Conversion\n",
    "\n",
    "implicit Type Conversion :  is when the Python interpreter automatically converts one data type to another without any user involvement. For example, if you add an integer and a float, the integer will be implicitly converted to a float before the addition takes place1.\n",
    "\n",
    "Explicit Type Conversion, also known as typecasting, is when the user manually changes the data type of an object to the required data type. You can use built-in functions like int(), float(), and str() to perform explicit type conversion2. \n",
    "\n",
    "example of both given below : \n",
    "\n"
   ]
  },
  {
   "cell_type": "code",
   "execution_count": 17,
   "id": "2cfdf843-9ac7-4e16-a5b4-8fb5aa8e4fbd",
   "metadata": {},
   "outputs": [],
   "source": [
    "## Implicit Type Conversion:"
   ]
  },
  {
   "cell_type": "code",
   "execution_count": 18,
   "id": "c552093b-e54e-45a4-ac44-538d599b2978",
   "metadata": {},
   "outputs": [],
   "source": [
    "x = 10 \n",
    "y = 9.6"
   ]
  },
  {
   "cell_type": "code",
   "execution_count": 19,
   "id": "938bf46f-cf17-4783-b73a-c05bc0d2d5d9",
   "metadata": {},
   "outputs": [
    {
     "data": {
      "text/plain": [
       "19.6"
      ]
     },
     "execution_count": 19,
     "metadata": {},
     "output_type": "execute_result"
    }
   ],
   "source": [
    "x+y "
   ]
  },
  {
   "cell_type": "code",
   "execution_count": 21,
   "id": "750f990b-43a8-450d-b0fd-1d9b2848e78b",
   "metadata": {},
   "outputs": [
    {
     "data": {
      "text/plain": [
       "float"
      ]
     },
     "execution_count": 21,
     "metadata": {},
     "output_type": "execute_result"
    }
   ],
   "source": [
    "type(x+y) "
   ]
  },
  {
   "cell_type": "code",
   "execution_count": 22,
   "id": "b2d9f047-a0d8-488d-b609-83933f711a56",
   "metadata": {},
   "outputs": [],
   "source": [
    "## Explicit Type comversion ::"
   ]
  },
  {
   "cell_type": "code",
   "execution_count": 37,
   "id": "61d45184-5266-494a-8ec0-dabbfe7d7760",
   "metadata": {},
   "outputs": [],
   "source": [
    "num_string = \"12\" \n",
    "num_integer = int(num_string)"
   ]
  },
  {
   "cell_type": "code",
   "execution_count": 24,
   "id": "e61f3000-0b71-43ad-9c48-6299aaf8cb7c",
   "metadata": {},
   "outputs": [
    {
     "data": {
      "text/plain": [
       "str"
      ]
     },
     "execution_count": 24,
     "metadata": {},
     "output_type": "execute_result"
    }
   ],
   "source": [
    "type (num_string)"
   ]
  },
  {
   "cell_type": "code",
   "execution_count": 30,
   "id": "0534eee7-3881-4725-bd6a-926f33686001",
   "metadata": {},
   "outputs": [
    {
     "data": {
      "text/plain": [
       "'12'"
      ]
     },
     "execution_count": 30,
     "metadata": {},
     "output_type": "execute_result"
    }
   ],
   "source": [
    "num_string"
   ]
  },
  {
   "cell_type": "code",
   "execution_count": 38,
   "id": "2106ac88-38f0-4c2e-95db-0fa617cd4197",
   "metadata": {},
   "outputs": [
    {
     "data": {
      "text/plain": [
       "int"
      ]
     },
     "execution_count": 38,
     "metadata": {},
     "output_type": "execute_result"
    }
   ],
   "source": [
    "type(num_integer)"
   ]
  },
  {
   "cell_type": "code",
   "execution_count": 40,
   "id": "4da52d05-826b-43bf-909c-08a0dddf053a",
   "metadata": {},
   "outputs": [
    {
     "data": {
      "text/plain": [
       "12"
      ]
     },
     "execution_count": 40,
     "metadata": {},
     "output_type": "execute_result"
    }
   ],
   "source": [
    "num_integer"
   ]
  },
  {
   "cell_type": "markdown",
   "id": "b853b1a4-5428-4af5-9693-59eff93918a4",
   "metadata": {},
   "source": [
    "Ans : 4 "
   ]
  },
  {
   "cell_type": "markdown",
   "id": "79057d65-94eb-4f3a-aa12-57632328f844",
   "metadata": {},
   "source": [
    "To write and execute a Python script from the command line, we  need to follow these steps:\n",
    "\n",
    "Open a command-line shell like cmd, PowerShell or Bash1.\n",
    "Navigate to the directory where you want to create your script1.\n",
    "Create a new file with the .py extension and write your Python code in it. You can use any text editor to do this.\n",
    "Save the file when you are done writing your code.\n",
    "Type python followed by the script name1. For example, if your script is named myscript.py, you would type python myscript.py and then hit Enter to run the script.\n",
    "\n",
    "If you are using a Mac or Linux, you may need to use the python3 command instead of python1. Also, make sure that your terminal’s working directory is the directory that contains your python script, or give the full path to the script2"
   ]
  },
  {
   "cell_type": "markdown",
   "id": "d9d046d4-c593-4234-a183-c0022e45ef81",
   "metadata": {},
   "source": [
    "Ans : 5 "
   ]
  },
  {
   "cell_type": "code",
   "execution_count": 42,
   "id": "79efe080-ddbd-4906-b96f-0f97826c4897",
   "metadata": {},
   "outputs": [],
   "source": [
    "## To obtain the sublist [2,3]\n",
    "my_list = [1, 2, 3, 4, 5] "
   ]
  },
  {
   "cell_type": "code",
   "execution_count": 44,
   "id": "83203aff-565c-42ea-8894-bd220d30a27d",
   "metadata": {},
   "outputs": [
    {
     "data": {
      "text/plain": [
       "list"
      ]
     },
     "execution_count": 44,
     "metadata": {},
     "output_type": "execute_result"
    }
   ],
   "source": [
    "type(my_list)"
   ]
  },
  {
   "cell_type": "code",
   "execution_count": 49,
   "id": "d38ce062-c815-4947-95c4-81d6ee8a4f3c",
   "metadata": {},
   "outputs": [
    {
     "data": {
      "text/plain": [
       "[2, 3]"
      ]
     },
     "execution_count": 49,
     "metadata": {},
     "output_type": "execute_result"
    }
   ],
   "source": [
    "my_list[1:3] "
   ]
  },
  {
   "cell_type": "markdown",
   "id": "fcc0f0f8-c177-488c-b3a2-1d8ce6ba1bc6",
   "metadata": {},
   "source": [
    "Ans 6 : "
   ]
  },
  {
   "cell_type": "markdown",
   "id": "5cfd51fa-dfa1-49bb-aafa-d594ef328dea",
   "metadata": {},
   "source": [
    "A complex number is a number that consists of two parts — a real number and an imaginary number. An imaginary number is a number that is multiplied by i, which is a symbol that represents the square root of -1 . "
   ]
  },
  {
   "cell_type": "code",
   "execution_count": 52,
   "id": "138bd5cd-12b3-4d42-9d8b-0b4fd140df33",
   "metadata": {},
   "outputs": [],
   "source": [
    "## The representation of complex number is given below . \n",
    "x= 3 + 4j "
   ]
  },
  {
   "cell_type": "code",
   "execution_count": 53,
   "id": "a8f45ee7-160b-4feb-a48d-6eae463549c6",
   "metadata": {},
   "outputs": [
    {
     "data": {
      "text/plain": [
       "complex"
      ]
     },
     "execution_count": 53,
     "metadata": {},
     "output_type": "execute_result"
    }
   ],
   "source": [
    "type(x)"
   ]
  },
  {
   "cell_type": "markdown",
   "id": "163a2bb2-149e-4c98-be58-6fa1b9595eb2",
   "metadata": {},
   "source": [
    "Ans 7"
   ]
  },
  {
   "cell_type": "markdown",
   "id": "d98ae1e6-aa6c-4372-ad2c-5aa69b936f2e",
   "metadata": {},
   "source": [
    "The correct way to assign a variable is first we have to create a varibale and the assign a value to it with the help of = operator  . \n",
    "example given below of declare a variable named age and assign the value 25 to it. "
   ]
  },
  {
   "cell_type": "code",
   "execution_count": 55,
   "id": "8bb94e7f-674b-41a5-930a-aaf8fb3ab786",
   "metadata": {},
   "outputs": [],
   "source": [
    "Age =  25 "
   ]
  },
  {
   "cell_type": "code",
   "execution_count": 56,
   "id": "be289c4d-08ea-43d3-a74e-b0b64da276f5",
   "metadata": {},
   "outputs": [
    {
     "data": {
      "text/plain": [
       "int"
      ]
     },
     "execution_count": 56,
     "metadata": {},
     "output_type": "execute_result"
    }
   ],
   "source": [
    "type(Age)"
   ]
  },
  {
   "cell_type": "markdown",
   "id": "8a37aefa-b903-44c2-93b1-f044f725e5e1",
   "metadata": {},
   "source": [
    "Ans 8 "
   ]
  },
  {
   "cell_type": "code",
   "execution_count": 57,
   "id": "c730fcb1-bd71-44f6-823e-1cea9ddf9182",
   "metadata": {},
   "outputs": [],
   "source": [
    "## Declaring a variable name Price and assigning a value od 9.99 to it . It is given below .\n",
    "\n",
    "price = 9.99"
   ]
  },
  {
   "cell_type": "code",
   "execution_count": 58,
   "id": "962b8480-942e-49d5-81e0-cd4623fb6a3f",
   "metadata": {},
   "outputs": [
    {
     "data": {
      "text/plain": [
       "float"
      ]
     },
     "execution_count": 58,
     "metadata": {},
     "output_type": "execute_result"
    }
   ],
   "source": [
    "type(price)"
   ]
  },
  {
   "cell_type": "markdown",
   "id": "5d4c2310-607b-4bde-8ac0-c82c84fa2c4f",
   "metadata": {},
   "source": [
    "The data type belong to Float . "
   ]
  },
  {
   "cell_type": "markdown",
   "id": "f585fde2-b158-41d8-bc99-911b721f1138",
   "metadata": {},
   "source": [
    "Ans : 9 "
   ]
  },
  {
   "cell_type": "code",
   "execution_count": 60,
   "id": "5d63bde2-9d32-4cde-8b1a-b02937e901dc",
   "metadata": {},
   "outputs": [],
   "source": [
    "## Creating a variable name and assigining my full name . \n",
    "\n",
    "name = \"Bishu Sharma\""
   ]
  },
  {
   "cell_type": "code",
   "execution_count": 61,
   "id": "4dd5669d-506b-4b39-a6dd-40ae4381b7c9",
   "metadata": {},
   "outputs": [
    {
     "data": {
      "text/plain": [
       "'Bishu Sharma'"
      ]
     },
     "execution_count": 61,
     "metadata": {},
     "output_type": "execute_result"
    }
   ],
   "source": [
    "## we can print the string value  by calling the variable name like shown below .\n",
    "\n",
    "name "
   ]
  },
  {
   "cell_type": "markdown",
   "id": "73a6b03a-3323-4660-bf44-e781fc907e5c",
   "metadata": {},
   "source": [
    "Ans : 10 "
   ]
  },
  {
   "cell_type": "code",
   "execution_count": 62,
   "id": "8678692c-b5db-48e4-8299-502ba88d03fc",
   "metadata": {},
   "outputs": [],
   "source": [
    "## extracting the substring word form \"Hello, world ! \"\n",
    "\n",
    "## first assigning the variable \n",
    "\n",
    "C = \"Hello , World!\""
   ]
  },
  {
   "cell_type": "code",
   "execution_count": 65,
   "id": "4add8908-b6de-4a8d-ad14-92e281c8dd97",
   "metadata": {},
   "outputs": [
    {
     "data": {
      "text/plain": [
       "'Hello , World!'"
      ]
     },
     "execution_count": 65,
     "metadata": {},
     "output_type": "execute_result"
    }
   ],
   "source": [
    "## printing C \n",
    "\n",
    "C"
   ]
  },
  {
   "cell_type": "code",
   "execution_count": 70,
   "id": "db7975f2-dfb4-40dd-9f81-d22e2718ef10",
   "metadata": {},
   "outputs": [
    {
     "data": {
      "text/plain": [
       "8"
      ]
     },
     "execution_count": 70,
     "metadata": {},
     "output_type": "execute_result"
    }
   ],
   "source": [
    "## finding the index of the string world \n",
    "\n",
    "C.index(\"World\")"
   ]
  },
  {
   "cell_type": "code",
   "execution_count": 74,
   "id": "a416cfb2-1e9d-4484-9511-6e953ce9232c",
   "metadata": {},
   "outputs": [
    {
     "data": {
      "text/plain": [
       "'World'"
      ]
     },
     "execution_count": 74,
     "metadata": {},
     "output_type": "execute_result"
    }
   ],
   "source": [
    "## extracting the substring \"World\"\n",
    "\n",
    "C[8:13]"
   ]
  },
  {
   "cell_type": "markdown",
   "id": "446d4892-bf72-4651-8462-0f7733c34ab9",
   "metadata": {},
   "source": [
    "Ans 11 "
   ]
  },
  {
   "cell_type": "code",
   "execution_count": 75,
   "id": "ce1db0fc-f5f3-4ed2-b467-d97d8c4dc3ba",
   "metadata": {},
   "outputs": [],
   "source": [
    "## Creating a variable name is_student and assiging a boolean value in it given below :\n",
    "\n",
    "is_student = True "
   ]
  },
  {
   "cell_type": "code",
   "execution_count": 76,
   "id": "303a9c80-445d-4cec-9bd1-a2b829adcad1",
   "metadata": {},
   "outputs": [
    {
     "data": {
      "text/plain": [
       "True"
      ]
     },
     "execution_count": 76,
     "metadata": {},
     "output_type": "execute_result"
    }
   ],
   "source": [
    "is_student"
   ]
  },
  {
   "cell_type": "code",
   "execution_count": null,
   "id": "6ec685a6-4cdf-4175-9a7b-af110eac1f84",
   "metadata": {},
   "outputs": [],
   "source": []
  }
 ],
 "metadata": {
  "kernelspec": {
   "display_name": "Python 3 (ipykernel)",
   "language": "python",
   "name": "python3"
  },
  "language_info": {
   "codemirror_mode": {
    "name": "ipython",
    "version": 3
   },
   "file_extension": ".py",
   "mimetype": "text/x-python",
   "name": "python",
   "nbconvert_exporter": "python",
   "pygments_lexer": "ipython3",
   "version": "3.10.8"
  }
 },
 "nbformat": 4,
 "nbformat_minor": 5
}
